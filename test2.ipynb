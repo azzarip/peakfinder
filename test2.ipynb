{
 "cells": [
  {
   "cell_type": "code",
   "execution_count": 1,
   "metadata": {},
   "outputs": [],
   "source": [
    "from script import process"
   ]
  },
  {
   "cell_type": "code",
   "execution_count": 2,
   "metadata": {},
   "outputs": [
    {
     "name": "stdout",
     "output_type": "stream",
     "text": [
      "Processing file: c:\\Users\\azzarip\\Desktop\\Projects\\Extrusion\\script\\TFSCD10.1.xlsx\n",
      "Processing file: c:\\Users\\azzarip\\Desktop\\Projects\\Extrusion\\script\\reports\\TFSCD10_Reports\\TFSCD10.1.xlsx\n",
      "Processing file: c:\\Users\\azzarip\\Desktop\\Projects\\Extrusion\\script\\reports\\TFSCD10_Reports\\TFSCD10.10.xlsx\n",
      "Processing file: c:\\Users\\azzarip\\Desktop\\Projects\\Extrusion\\script\\reports\\TFSCD10_Reports\\TFSCD10.2.xlsx\n",
      "Processing file: c:\\Users\\azzarip\\Desktop\\Projects\\Extrusion\\script\\reports\\TFSCD10_Reports\\TFSCD10.3.xlsx\n",
      "Processing file: c:\\Users\\azzarip\\Desktop\\Projects\\Extrusion\\script\\reports\\TFSCD10_Reports\\TFSCD10.4.xlsx\n",
      "Processing file: c:\\Users\\azzarip\\Desktop\\Projects\\Extrusion\\script\\reports\\TFSCD10_Reports\\TFSCD10.5.xlsx\n",
      "Processing file: c:\\Users\\azzarip\\Desktop\\Projects\\Extrusion\\script\\reports\\TFSCD10_Reports\\TFSCD10.6.xlsx\n",
      "Processing file: c:\\Users\\azzarip\\Desktop\\Projects\\Extrusion\\script\\reports\\TFSCD10_Reports\\TFSCD10.7.xlsx\n",
      "Processing file: c:\\Users\\azzarip\\Desktop\\Projects\\Extrusion\\script\\reports\\TFSCD10_Reports\\TFSCD10.8.xlsx\n",
      "Processing file: c:\\Users\\azzarip\\Desktop\\Projects\\Extrusion\\script\\reports\\TFSCD10_Reports\\TFSCD10.9.xlsx\n",
      "Processing file: c:\\Users\\azzarip\\Desktop\\Projects\\Extrusion\\script\\reports\\TFSCD20_Reports\\TFSCD20.1.xlsx\n",
      "Processing file: c:\\Users\\azzarip\\Desktop\\Projects\\Extrusion\\script\\reports\\TFSCD20_Reports\\TFSCD20.10.xlsx\n",
      "Processing file: c:\\Users\\azzarip\\Desktop\\Projects\\Extrusion\\script\\reports\\TFSCD20_Reports\\TFSCD20.2.xlsx\n",
      "Processing file: c:\\Users\\azzarip\\Desktop\\Projects\\Extrusion\\script\\reports\\TFSCD20_Reports\\TFSCD20.3.xlsx\n",
      "Processing file: c:\\Users\\azzarip\\Desktop\\Projects\\Extrusion\\script\\reports\\TFSCD20_Reports\\TFSCD20.4.xlsx\n",
      "Processing file: c:\\Users\\azzarip\\Desktop\\Projects\\Extrusion\\script\\reports\\TFSCD20_Reports\\TFSCD20.5.xlsx\n",
      "Processing file: c:\\Users\\azzarip\\Desktop\\Projects\\Extrusion\\script\\reports\\TFSCD20_Reports\\TFSCD20.6.xlsx\n",
      "Processing file: c:\\Users\\azzarip\\Desktop\\Projects\\Extrusion\\script\\reports\\TFSCD20_Reports\\TFSCD20.7.xlsx\n",
      "Processing file: c:\\Users\\azzarip\\Desktop\\Projects\\Extrusion\\script\\reports\\TFSCD20_Reports\\TFSCD20.8.xlsx\n",
      "Processing file: c:\\Users\\azzarip\\Desktop\\Projects\\Extrusion\\script\\reports\\TFSCD20_Reports\\TFSCD20.9.xlsx\n",
      "Processing file: c:\\Users\\azzarip\\Desktop\\Projects\\Extrusion\\script\\reports\\TFSCD30_Reports\\TFSCD30.1.xlsx\n",
      "Processing file: c:\\Users\\azzarip\\Desktop\\Projects\\Extrusion\\script\\reports\\TFSCD30_Reports\\TFSCD30.10.xlsx\n",
      "Processing file: c:\\Users\\azzarip\\Desktop\\Projects\\Extrusion\\script\\reports\\TFSCD30_Reports\\TFSCD30.2.xlsx\n",
      "Processing file: c:\\Users\\azzarip\\Desktop\\Projects\\Extrusion\\script\\reports\\TFSCD30_Reports\\TFSCD30.3.xlsx\n",
      "Processing file: c:\\Users\\azzarip\\Desktop\\Projects\\Extrusion\\script\\reports\\TFSCD30_Reports\\TFSCD30.4.xlsx\n",
      "Processing file: c:\\Users\\azzarip\\Desktop\\Projects\\Extrusion\\script\\reports\\TFSCD30_Reports\\TFSCD30.5.xlsx\n",
      "Processing file: c:\\Users\\azzarip\\Desktop\\Projects\\Extrusion\\script\\reports\\TFSCD30_Reports\\TFSCD30.6.xlsx\n",
      "Processing file: c:\\Users\\azzarip\\Desktop\\Projects\\Extrusion\\script\\reports\\TFSCD30_Reports\\TFSCD30.7.xlsx\n",
      "Processing file: c:\\Users\\azzarip\\Desktop\\Projects\\Extrusion\\script\\reports\\TFSCD30_Reports\\TFSCD30.8.xlsx\n",
      "Processing file: c:\\Users\\azzarip\\Desktop\\Projects\\Extrusion\\script\\reports\\TFSCD30_Reports\\TFSCD30.9.xlsx\n",
      "Processing file: c:\\Users\\azzarip\\Desktop\\Projects\\Extrusion\\script\\reports\\TFSCD40_Reports\\TFSCD40.1.xlsx\n",
      "Processing file: c:\\Users\\azzarip\\Desktop\\Projects\\Extrusion\\script\\reports\\TFSCD40_Reports\\TFSCD40.10.xlsx\n",
      "Processing file: c:\\Users\\azzarip\\Desktop\\Projects\\Extrusion\\script\\reports\\TFSCD40_Reports\\TFSCD40.2.xlsx\n",
      "Processing file: c:\\Users\\azzarip\\Desktop\\Projects\\Extrusion\\script\\reports\\TFSCD40_Reports\\TFSCD40.3.xlsx\n",
      "Processing file: c:\\Users\\azzarip\\Desktop\\Projects\\Extrusion\\script\\reports\\TFSCD40_Reports\\TFSCD40.4.xlsx\n",
      "Processing file: c:\\Users\\azzarip\\Desktop\\Projects\\Extrusion\\script\\reports\\TFSCD40_Reports\\TFSCD40.5.xlsx\n",
      "Processing file: c:\\Users\\azzarip\\Desktop\\Projects\\Extrusion\\script\\reports\\TFSCD40_Reports\\TFSCD40.6.xlsx\n",
      "Processing file: c:\\Users\\azzarip\\Desktop\\Projects\\Extrusion\\script\\reports\\TFSCD40_Reports\\TFSCD40.7.xlsx\n",
      "Processing file: c:\\Users\\azzarip\\Desktop\\Projects\\Extrusion\\script\\reports\\TFSCD40_Reports\\TFSCD40.8.xlsx\n",
      "Processing file: c:\\Users\\azzarip\\Desktop\\Projects\\Extrusion\\script\\reports\\TFSCD40_Reports\\TFSCD40.9.xlsx\n",
      "Processing file: c:\\Users\\azzarip\\Desktop\\Projects\\Extrusion\\script\\reports\\TFSCD50_Reports\\TFSCD50.1.xlsx\n",
      "Processing file: c:\\Users\\azzarip\\Desktop\\Projects\\Extrusion\\script\\reports\\TFSCD50_Reports\\TFSCD50.10.xlsx\n",
      "Processing file: c:\\Users\\azzarip\\Desktop\\Projects\\Extrusion\\script\\reports\\TFSCD50_Reports\\TFSCD50.2.xlsx\n",
      "Processing file: c:\\Users\\azzarip\\Desktop\\Projects\\Extrusion\\script\\reports\\TFSCD50_Reports\\TFSCD50.3.xlsx\n",
      "Processing file: c:\\Users\\azzarip\\Desktop\\Projects\\Extrusion\\script\\reports\\TFSCD50_Reports\\TFSCD50.4.xlsx\n",
      "Processing file: c:\\Users\\azzarip\\Desktop\\Projects\\Extrusion\\script\\reports\\TFSCD50_Reports\\TFSCD50.5.xlsx\n",
      "Processing file: c:\\Users\\azzarip\\Desktop\\Projects\\Extrusion\\script\\reports\\TFSCD50_Reports\\TFSCD50.6.xlsx\n",
      "Processing file: c:\\Users\\azzarip\\Desktop\\Projects\\Extrusion\\script\\reports\\TFSCD50_Reports\\TFSCD50.7.xlsx\n",
      "Processing file: c:\\Users\\azzarip\\Desktop\\Projects\\Extrusion\\script\\reports\\TFSCD50_Reports\\TFSCD50.8.xlsx\n",
      "Processing file: c:\\Users\\azzarip\\Desktop\\Projects\\Extrusion\\script\\reports\\TFSCD50_Reports\\TFSCD50.9.xlsx\n",
      "Processing file: c:\\Users\\azzarip\\Desktop\\Projects\\Extrusion\\script\\reports\\TFSCD60_Reports\\TFSCD60.1.xlsx\n",
      "Processing file: c:\\Users\\azzarip\\Desktop\\Projects\\Extrusion\\script\\reports\\TFSCD60_Reports\\TFSCD60.10.xlsx\n",
      "Processing file: c:\\Users\\azzarip\\Desktop\\Projects\\Extrusion\\script\\reports\\TFSCD60_Reports\\TFSCD60.2.xlsx\n",
      "Processing file: c:\\Users\\azzarip\\Desktop\\Projects\\Extrusion\\script\\reports\\TFSCD60_Reports\\TFSCD60.3.xlsx\n",
      "Processing file: c:\\Users\\azzarip\\Desktop\\Projects\\Extrusion\\script\\reports\\TFSCD60_Reports\\TFSCD60.4.xlsx\n",
      "Processing file: c:\\Users\\azzarip\\Desktop\\Projects\\Extrusion\\script\\reports\\TFSCD60_Reports\\TFSCD60.5.xlsx\n",
      "Processing file: c:\\Users\\azzarip\\Desktop\\Projects\\Extrusion\\script\\reports\\TFSCD60_Reports\\TFSCD60.6.xlsx\n",
      "Processing file: c:\\Users\\azzarip\\Desktop\\Projects\\Extrusion\\script\\reports\\TFSCD60_Reports\\TFSCD60.7.xlsx\n",
      "Processing file: c:\\Users\\azzarip\\Desktop\\Projects\\Extrusion\\script\\reports\\TFSCD60_Reports\\TFSCD60.8.xlsx\n",
      "Processing file: c:\\Users\\azzarip\\Desktop\\Projects\\Extrusion\\script\\reports\\TFSCD60_Reports\\TFSCD60.9.xlsx\n",
      "Processing file: c:\\Users\\azzarip\\Desktop\\Projects\\Extrusion\\script\\reports\\TFSCD70_Reports\\TFSCD70.1.xlsx\n",
      "Processing file: c:\\Users\\azzarip\\Desktop\\Projects\\Extrusion\\script\\reports\\TFSCD70_Reports\\TFSCD70.10.xlsx\n",
      "Processing file: c:\\Users\\azzarip\\Desktop\\Projects\\Extrusion\\script\\reports\\TFSCD70_Reports\\TFSCD70.2.xlsx\n",
      "Processing file: c:\\Users\\azzarip\\Desktop\\Projects\\Extrusion\\script\\reports\\TFSCD70_Reports\\TFSCD70.3.xlsx\n",
      "Processing file: c:\\Users\\azzarip\\Desktop\\Projects\\Extrusion\\script\\reports\\TFSCD70_Reports\\TFSCD70.4.xlsx\n",
      "Processing file: c:\\Users\\azzarip\\Desktop\\Projects\\Extrusion\\script\\reports\\TFSCD70_Reports\\TFSCD70.5.xlsx\n",
      "Processing file: c:\\Users\\azzarip\\Desktop\\Projects\\Extrusion\\script\\reports\\TFSCD70_Reports\\TFSCD70.6.xlsx\n",
      "Processing file: c:\\Users\\azzarip\\Desktop\\Projects\\Extrusion\\script\\reports\\TFSCD70_Reports\\TFSCD70.7.xlsx\n",
      "Processing file: c:\\Users\\azzarip\\Desktop\\Projects\\Extrusion\\script\\reports\\TFSCD70_Reports\\TFSCD70.8.xlsx\n",
      "Processing file: c:\\Users\\azzarip\\Desktop\\Projects\\Extrusion\\script\\reports\\TFSCD70_Reports\\TFSCD70.9.xlsx\n"
     ]
    }
   ],
   "source": [
    "process()"
   ]
  }
 ],
 "metadata": {
  "kernelspec": {
   "display_name": "Python 3",
   "language": "python",
   "name": "python3"
  },
  "language_info": {
   "codemirror_mode": {
    "name": "ipython",
    "version": 3
   },
   "file_extension": ".py",
   "mimetype": "text/x-python",
   "name": "python",
   "nbconvert_exporter": "python",
   "pygments_lexer": "ipython3",
   "version": "3.11.5"
  },
  "orig_nbformat": 4,
  "vscode": {
   "interpreter": {
    "hash": "9e2d6ef6c23bf91879fe00810fa07e8ebf5c136e0f6c12a14161d57bfaa742c4"
   }
  }
 },
 "nbformat": 4,
 "nbformat_minor": 2
}
